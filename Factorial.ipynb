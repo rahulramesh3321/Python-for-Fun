{
 "cells": [
  {
   "cell_type": "markdown",
   "metadata": {},
   "source": [
    "# <center> <font size= 5>FACTORIAL OF A NUMBER </font></center>\n",
    ">Author : Rahul Singh Chandel <br>\n",
    ">Date : 18th May 2020"
   ]
  },
  {
   "cell_type": "code",
   "execution_count": 1,
   "metadata": {},
   "outputs": [
    {
     "name": "stdout",
     "output_type": "stream",
     "text": [
      "Enter the no. whose factorial is required4\n",
      "Factorial 24\n"
     ]
    }
   ],
   "source": [
    "    #The factorial of a positive integer n, denoted by n!,\n",
    "#is the product of all positive integers less than or equal to n\n",
    "\n",
    "\n",
    "\n",
    "n = int(input(\"Enter the no. whose factorial is required\")) # Factorial of the no.\n",
    "fac =1 # Initializing to store factorial\n",
    "for i in range(1, n+1): # Loop to generate the sequence of no.\n",
    "    fac = fac*i # Store the factorial\n",
    "\n",
    "print(\"Factorial\", fac) #"
   ]
  }
 ],
 "metadata": {
  "kernelspec": {
   "display_name": "Python 3",
   "language": "python",
   "name": "python3"
  },
  "language_info": {
   "codemirror_mode": {
    "name": "ipython",
    "version": 3
   },
   "file_extension": ".py",
   "mimetype": "text/x-python",
   "name": "python",
   "nbconvert_exporter": "python",
   "pygments_lexer": "ipython3",
   "version": "3.6.8"
  }
 },
 "nbformat": 4,
 "nbformat_minor": 2
}
