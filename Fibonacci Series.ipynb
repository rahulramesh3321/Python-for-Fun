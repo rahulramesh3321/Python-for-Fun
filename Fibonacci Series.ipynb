{
 "cells": [
  {
   "cell_type": "markdown",
   "metadata": {},
   "source": [
    "<B><font size =6><center> FIBONACCI SERIES </center></font></B>\n",
    ">\n",
    ">\n",
    "> Author: Rahul Singh Chandel  \n",
    "> Date: 16May2020"
   ]
  },
  {
   "cell_type": "code",
   "execution_count": 14,
   "metadata": {},
   "outputs": [
    {
     "name": "stdout",
     "output_type": "stream",
     "text": [
      "7\n",
      "0\n",
      "1\n",
      "1\n",
      "2\n",
      "3\n",
      "5\n",
      "8\n"
     ]
    }
   ],
   "source": [
    "# Fibonacci Series : It's a mathematical sequence of no. , \n",
    "#where the next no. is sum of the two preceeding one, starting from 0 and 1 \n",
    "\n",
    "# Generate Fibonacci series \n",
    "\n",
    "\n",
    "\n",
    "n = int(input()) # No. of sequence you want to generate\n",
    "7\n",
    "a = 0 # initialize the sequence\n",
    "b = 1 # initialize the sequence\n",
    "\n",
    "for i in range (1, n+1):\n",
    "    print(a)\n",
    "    sm = a+b # Sum to create the next no.\n",
    "    a=b\n",
    "    b=sm\n",
    "    \n"
   ]
  }
 ],
 "metadata": {
  "kernelspec": {
   "display_name": "Python 3",
   "language": "python",
   "name": "python3"
  },
  "language_info": {
   "codemirror_mode": {
    "name": "ipython",
    "version": 3
   },
   "file_extension": ".py",
   "mimetype": "text/x-python",
   "name": "python",
   "nbconvert_exporter": "python",
   "pygments_lexer": "ipython3",
   "version": "3.6.8"
  }
 },
 "nbformat": 4,
 "nbformat_minor": 2
}
