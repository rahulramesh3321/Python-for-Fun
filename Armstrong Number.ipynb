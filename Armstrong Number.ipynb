{
 "cells": [
  {
   "cell_type": "markdown",
   "metadata": {},
   "source": [
    "# <center> <font size= 5>ARMSTRONG NUMBER </font></center>\n",
    ">Author : Rahul Singh Chandel <br>\n",
    ">Date : 16th May 2020"
   ]
  },
  {
   "cell_type": "code",
   "execution_count": 2,
   "metadata": {},
   "outputs": [
    {
     "name": "stdout",
     "output_type": "stream",
     "text": [
      "Enter the no.153\n",
      "True\n"
     ]
    }
   ],
   "source": [
    "# Armstrong No.or Narcissistic Number :  a narcissistic number in a given number base is a number that is the \n",
    "# sum of its own digits each raised to the power of the number of digits.\n",
    "# Ex: 153 = 1^3 +5^3 + 3^3  -  the total digits are 3 hence, cube is been done\n",
    "\n",
    "n=int(input(\"Enter the no.\")) # No. which we want to check\n",
    "sm =0 # Variable initialiazation\n",
    "temp = n # temp variable to quotient of number\n",
    "digi =  len(str(abs(n))) #Count the no. of digits, so to raise the power\n",
    "while (temp>0):\n",
    "    sm = (temp%10)**digi+ sm # % operator gives the remainder, so for 153 divide by 10 - 3 will be remainder\n",
    "    temp = temp//10 # \"//\" operator gives the absolute value of quotient - here it will be 15\n",
    "\n",
    "if n == sm:\n",
    "    print(\"True\")\n",
    "else:\n",
    "    print(\"False\")"
   ]
  }
 ],
 "metadata": {
  "kernelspec": {
   "display_name": "Python 3",
   "language": "python",
   "name": "python3"
  },
  "language_info": {
   "codemirror_mode": {
    "name": "ipython",
    "version": 3
   },
   "file_extension": ".py",
   "mimetype": "text/x-python",
   "name": "python",
   "nbconvert_exporter": "python",
   "pygments_lexer": "ipython3",
   "version": "3.6.8"
  }
 },
 "nbformat": 4,
 "nbformat_minor": 2
}
